{
 "cells": [
  {
   "cell_type": "code",
   "execution_count": null,
   "id": "bb37e61a",
   "metadata": {
    "vscode": {
     "languageId": "plaintext"
    }
   },
   "outputs": [],
   "source": [
    "# resets \n",
    "!rm -rf /content/*"
   ]
  },
  {
   "cell_type": "code",
   "execution_count": null,
   "id": "902a902c",
   "metadata": {
    "vscode": {
     "languageId": "plaintext"
    }
   },
   "outputs": [],
   "source": [
    "from google.colab import files\n",
    "uploaded = files.upload() "
   ]
  },
  {
   "cell_type": "code",
   "execution_count": null,
   "id": "25e261dd",
   "metadata": {
    "vscode": {
     "languageId": "plaintext"
    }
   },
   "outputs": [],
   "source": [
    "!unzip vola-vibe.zip -d vola-vibe\n",
    "%cd vola-vibe"
   ]
  },
  {
   "cell_type": "code",
   "execution_count": null,
   "id": "da4bbcdb",
   "metadata": {
    "vscode": {
     "languageId": "plaintext"
    }
   },
   "outputs": [],
   "source": [
    "!pip install -r requirements.txt"
   ]
  },
  {
   "cell_type": "code",
   "execution_count": null,
   "id": "2846cbe9",
   "metadata": {
    "vscode": {
     "languageId": "plaintext"
    }
   },
   "outputs": [],
   "source": [
    "import os\n",
    "\n",
    "os.environ[\"NEWS_API_KEY\"] = \"62f9be4229bf45d79733f35916db10e2\""
   ]
  },
  {
   "cell_type": "code",
   "execution_count": null,
   "id": "b47d94d7",
   "metadata": {
    "vscode": {
     "languageId": "plaintext"
    }
   },
   "outputs": [],
   "source": [
    "!python -u aggregator.py"
   ]
  },
  {
   "cell_type": "code",
   "execution_count": null,
   "id": "880da722",
   "metadata": {},
   "outputs": [],
   "source": [
    "from google.colab import files\n",
    "files.download(\"data/historical_data.csv\")"
   ]
  }
 ],
 "metadata": {
  "language_info": {
   "name": "python"
  }
 },
 "nbformat": 4,
 "nbformat_minor": 5
}
